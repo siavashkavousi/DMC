{
 "cells": [
  {
   "cell_type": "code",
   "execution_count": 2,
   "metadata": {
    "collapsed": false
   },
   "outputs": [
    {
     "data": {
      "text/html": [
       "<div>\n",
       "<table border=\"1\" class=\"dataframe\">\n",
       "  <thead>\n",
       "    <tr style=\"text-align: right;\">\n",
       "      <th></th>\n",
       "      <th>orderID</th>\n",
       "      <th>orderDate</th>\n",
       "      <th>articleID</th>\n",
       "      <th>colorCode</th>\n",
       "      <th>sizeCode</th>\n",
       "      <th>productGroup</th>\n",
       "      <th>quantity</th>\n",
       "      <th>price</th>\n",
       "      <th>rrp</th>\n",
       "      <th>voucherID</th>\n",
       "      <th>voucherAmount</th>\n",
       "      <th>customerID</th>\n",
       "      <th>deviceID</th>\n",
       "      <th>paymentMethod</th>\n",
       "      <th>returnQuantity</th>\n",
       "    </tr>\n",
       "  </thead>\n",
       "  <tbody>\n",
       "    <tr>\n",
       "      <th>0</th>\n",
       "      <td>a1000001</td>\n",
       "      <td>2014-01-01</td>\n",
       "      <td>i1000382</td>\n",
       "      <td>1972</td>\n",
       "      <td>44</td>\n",
       "      <td>3.0</td>\n",
       "      <td>1</td>\n",
       "      <td>10.00</td>\n",
       "      <td>29.99</td>\n",
       "      <td>0</td>\n",
       "      <td>0.0</td>\n",
       "      <td>c1010575</td>\n",
       "      <td>2</td>\n",
       "      <td>BPRG</td>\n",
       "      <td>0</td>\n",
       "    </tr>\n",
       "    <tr>\n",
       "      <th>1</th>\n",
       "      <td>a1000001</td>\n",
       "      <td>2014-01-01</td>\n",
       "      <td>i1000550</td>\n",
       "      <td>3854</td>\n",
       "      <td>44</td>\n",
       "      <td>3.0</td>\n",
       "      <td>1</td>\n",
       "      <td>20.00</td>\n",
       "      <td>39.99</td>\n",
       "      <td>0</td>\n",
       "      <td>0.0</td>\n",
       "      <td>c1010575</td>\n",
       "      <td>2</td>\n",
       "      <td>BPRG</td>\n",
       "      <td>0</td>\n",
       "    </tr>\n",
       "    <tr>\n",
       "      <th>2</th>\n",
       "      <td>a1000002</td>\n",
       "      <td>2014-01-01</td>\n",
       "      <td>i1001991</td>\n",
       "      <td>2974</td>\n",
       "      <td>38</td>\n",
       "      <td>8.0</td>\n",
       "      <td>1</td>\n",
       "      <td>35.00</td>\n",
       "      <td>49.99</td>\n",
       "      <td>0</td>\n",
       "      <td>0.0</td>\n",
       "      <td>c1045905</td>\n",
       "      <td>4</td>\n",
       "      <td>BPRG</td>\n",
       "      <td>0</td>\n",
       "    </tr>\n",
       "    <tr>\n",
       "      <th>3</th>\n",
       "      <td>a1000002</td>\n",
       "      <td>2014-01-01</td>\n",
       "      <td>i1001999</td>\n",
       "      <td>1992</td>\n",
       "      <td>38</td>\n",
       "      <td>8.0</td>\n",
       "      <td>1</td>\n",
       "      <td>49.99</td>\n",
       "      <td>49.99</td>\n",
       "      <td>0</td>\n",
       "      <td>0.0</td>\n",
       "      <td>c1045905</td>\n",
       "      <td>4</td>\n",
       "      <td>BPRG</td>\n",
       "      <td>1</td>\n",
       "    </tr>\n",
       "    <tr>\n",
       "      <th>4</th>\n",
       "      <td>a1000003</td>\n",
       "      <td>2014-01-01</td>\n",
       "      <td>i1001942</td>\n",
       "      <td>1968</td>\n",
       "      <td>42</td>\n",
       "      <td>8.0</td>\n",
       "      <td>1</td>\n",
       "      <td>10.00</td>\n",
       "      <td>35.99</td>\n",
       "      <td>0</td>\n",
       "      <td>0.0</td>\n",
       "      <td>c1089295</td>\n",
       "      <td>2</td>\n",
       "      <td>PAYPALVC</td>\n",
       "      <td>0</td>\n",
       "    </tr>\n",
       "  </tbody>\n",
       "</table>\n",
       "</div>"
      ],
      "text/plain": [
       "    orderID   orderDate articleID  colorCode sizeCode  productGroup  quantity  \\\n",
       "0  a1000001  2014-01-01  i1000382       1972       44           3.0         1   \n",
       "1  a1000001  2014-01-01  i1000550       3854       44           3.0         1   \n",
       "2  a1000002  2014-01-01  i1001991       2974       38           8.0         1   \n",
       "3  a1000002  2014-01-01  i1001999       1992       38           8.0         1   \n",
       "4  a1000003  2014-01-01  i1001942       1968       42           8.0         1   \n",
       "\n",
       "   price    rrp voucherID  voucherAmount customerID  deviceID paymentMethod  \\\n",
       "0  10.00  29.99         0            0.0   c1010575         2          BPRG   \n",
       "1  20.00  39.99         0            0.0   c1010575         2          BPRG   \n",
       "2  35.00  49.99         0            0.0   c1045905         4          BPRG   \n",
       "3  49.99  49.99         0            0.0   c1045905         4          BPRG   \n",
       "4  10.00  35.99         0            0.0   c1089295         2      PAYPALVC   \n",
       "\n",
       "   returnQuantity  \n",
       "0               0  \n",
       "1               0  \n",
       "2               0  \n",
       "3               1  \n",
       "4               0  "
      ]
     },
     "execution_count": 2,
     "metadata": {},
     "output_type": "execute_result"
    }
   ],
   "source": [
    "import numpy as np\n",
    "import pandas as pd\n",
    "from datautils import load_orders_train, PATH\n",
    "\n",
    "df = load_orders_train()\n",
    "df.head()"
   ]
  },
  {
   "cell_type": "code",
   "execution_count": 16,
   "metadata": {
    "collapsed": false
   },
   "outputs": [],
   "source": [
    "from datautils import process_date\n",
    "process_date(df)\n",
    "_ = pd.read_csv(PATH + 'date.csv')"
   ]
  },
  {
   "cell_type": "code",
   "execution_count": 3,
   "metadata": {
    "collapsed": false
   },
   "outputs": [
    {
     "data": {
      "text/plain": [
       "quantity\n",
       "0       31643\n",
       "1     2275335\n",
       "2       16168\n",
       "3        1340\n",
       "4         325\n",
       "5         349\n",
       "7           1\n",
       "9           1\n",
       "11          1\n",
       "15          1\n",
       "24          1\n",
       "dtype: int64"
      ]
     },
     "execution_count": 3,
     "metadata": {},
     "output_type": "execute_result"
    }
   ],
   "source": [
    "# what should we do with items that have zero quantity?!! remove I guess :)\n",
    "df.groupby('quantity').size()"
   ]
  },
  {
   "cell_type": "code",
   "execution_count": 6,
   "metadata": {
    "collapsed": false
   },
   "outputs": [
    {
     "name": "stdout",
     "output_type": "stream",
     "text": [
      "quantity number: 0\n",
      "31643\n",
      "returnQuantity\n",
      "0    31635\n",
      "1        8\n",
      "dtype: int64\n",
      "positive_return_percent: 0.000252884463411\n",
      "-------------------------\n",
      "quantity number: 1\n",
      "2275335\n",
      "returnQuantity\n",
      "0    1076838\n",
      "1    1198496\n",
      "2          1\n",
      "dtype: int64\n",
      "positive_return_percent: 1.11297799669\n",
      "-------------------------\n",
      "quantity number: 2\n",
      "16168\n",
      "returnQuantity\n",
      "0    7283\n",
      "1    5278\n",
      "2    3607\n",
      "dtype: int64\n",
      "positive_return_percent: 1.21996430043\n",
      "-------------------------\n",
      "quantity number: 3\n",
      "1340\n",
      "returnQuantity\n",
      "0    890\n",
      "1    165\n",
      "2    113\n",
      "3    172\n",
      "dtype: int64\n",
      "positive_return_percent: 0.505617977528\n",
      "-------------------------\n",
      "quantity number: 4\n",
      "325\n",
      "returnQuantity\n",
      "0    233\n",
      "1     30\n",
      "2     20\n",
      "3     17\n",
      "4     25\n",
      "dtype: int64\n",
      "positive_return_percent: 0.394849785408\n",
      "-------------------------\n",
      "quantity number: 5\n",
      "349\n",
      "returnQuantity\n",
      "0    272\n",
      "1     28\n",
      "2      8\n",
      "3      3\n",
      "4     10\n",
      "5     28\n",
      "dtype: int64\n",
      "positive_return_percent: 0.283088235294\n",
      "-------------------------\n",
      "quantity number: 7\n",
      "1\n",
      "returnQuantity\n",
      "0    1\n",
      "dtype: int64\n",
      "positive_return_percent: 0.0\n",
      "-------------------------\n",
      "quantity number: 9\n",
      "1\n",
      "returnQuantity\n",
      "0    1\n",
      "dtype: int64\n",
      "positive_return_percent: 0.0\n",
      "-------------------------\n",
      "quantity number: 11\n",
      "1\n",
      "returnQuantity\n",
      "0    1\n",
      "dtype: int64\n",
      "positive_return_percent: 0.0\n",
      "-------------------------\n",
      "quantity number: 15\n",
      "1\n",
      "returnQuantity\n",
      "0    1\n",
      "dtype: int64\n",
      "positive_return_percent: 0.0\n",
      "-------------------------\n",
      "quantity number: 24\n",
      "1\n",
      "returnQuantity\n",
      "0    1\n",
      "dtype: int64\n",
      "positive_return_percent: 0.0\n",
      "-------------------------\n",
      "0\n"
     ]
    }
   ],
   "source": [
    "grouped_items = df[['quantity', 'returnQuantity']].groupby(df['quantity'])\n",
    "counter = 0\n",
    "for name, group in grouped_items:\n",
    "    print('quantity number: {name}'.format(name=name))\n",
    "    return_quantity_group_size = group.groupby('returnQuantity').size()\n",
    "    print(len(group.index))\n",
    "    print(return_quantity_group_size)\n",
    "    positive_return_percent = sum(return_quantity_group_size[1:]) / float(return_quantity_group_size[0])\n",
    "    print('positive_return_percent: {value}'.format(value=positive_return_percent))\n",
    "    print('-------------------------')\n",
    "    \n",
    "print(counter)"
   ]
  },
  {
   "cell_type": "code",
   "execution_count": 9,
   "metadata": {
    "collapsed": false
   },
   "outputs": [
    {
     "data": {
      "text/plain": [
       "quantity\n",
       "1    2241632\n",
       "2       1144\n",
       "3         68\n",
       "dtype: int64"
      ]
     },
     "execution_count": 9,
     "metadata": {},
     "output_type": "execute_result"
    }
   ],
   "source": [
    "from datautils import cleanup_data\n",
    "cleaned_df = cleanup_data(df)\n",
    "cleaned_df.groupby('quantity').size()"
   ]
  },
  {
   "cell_type": "code",
   "execution_count": 10,
   "metadata": {
    "collapsed": false
   },
   "outputs": [
    {
     "data": {
      "text/plain": [
       "price\n",
       "4.00         397\n",
       "5.00        9303\n",
       "7.00        4801\n",
       "8.00       13337\n",
       "9.00       23416\n",
       "9.99       21078\n",
       "10.00      30475\n",
       "12.00      52198\n",
       "12.95      33140\n",
       "12.99      16493\n",
       "14.00       4385\n",
       "15.00      91722\n",
       "15.99      29108\n",
       "16.00        125\n",
       "17.99      48094\n",
       "18.00      56410\n",
       "19.99      69018\n",
       "20.00     152476\n",
       "22.99      62121\n",
       "23.99        104\n",
       "24.00        220\n",
       "24.99        342\n",
       "25.00      60255\n",
       "25.20        127\n",
       "25.99      84444\n",
       "26.66        199\n",
       "27.99      23905\n",
       "29.99     240235\n",
       "30.00      83018\n",
       "33.61        199\n",
       "           ...  \n",
       "59.99     118242\n",
       "60.00       1949\n",
       "65.00       3368\n",
       "69.99     156833\n",
       "70.00       3506\n",
       "75.00        196\n",
       "79.99      15564\n",
       "80.00        481\n",
       "85.00       1155\n",
       "89.99      13014\n",
       "90.00       1232\n",
       "99.99      16330\n",
       "100.00      1128\n",
       "109.00       298\n",
       "110.00      1414\n",
       "119.99      3177\n",
       "120.00      1021\n",
       "129.99      1872\n",
       "130.00       230\n",
       "139.99      3183\n",
       "149.99      1354\n",
       "150.00       391\n",
       "159.99       275\n",
       "160.00      1640\n",
       "169.99      1305\n",
       "179.99       355\n",
       "199.99       338\n",
       "219.99       739\n",
       "229.99      2578\n",
       "239.99       304\n",
       "dtype: int64"
      ]
     },
     "execution_count": 10,
     "metadata": {},
     "output_type": "execute_result"
    }
   ],
   "source": [
    "cleaned_df.groupby('price').size()"
   ]
  },
  {
   "cell_type": "code",
   "execution_count": 11,
   "metadata": {
    "collapsed": false
   },
   "outputs": [
    {
     "data": {
      "text/plain": [
       "310"
      ]
     },
     "execution_count": 11,
     "metadata": {},
     "output_type": "execute_result"
    }
   ],
   "source": [
    "from datautils import filter_nasty_customers\n",
    "\n",
    "nasty_customers = filter_nasty_customers(df, lambda x: x > 100)\n",
    "len(nasty_customers)"
   ]
  },
  {
   "cell_type": "code",
   "execution_count": 13,
   "metadata": {
    "collapsed": false
   },
   "outputs": [
    {
     "data": {
      "text/plain": [
       "57"
      ]
     },
     "execution_count": 13,
     "metadata": {},
     "output_type": "execute_result"
    }
   ],
   "source": [
    "from datautils import filter_most_unwanted_colors\n",
    "\n",
    "most_unwanted_colors = filter_most_unwanted_colors(df, lambda x: x > 5000)\n",
    "len(most_unwanted_colors)"
   ]
  },
  {
   "cell_type": "code",
   "execution_count": 14,
   "metadata": {
    "collapsed": false
   },
   "outputs": [
    {
     "data": {
      "text/plain": [
       "22662"
      ]
     },
     "execution_count": 14,
     "metadata": {},
     "output_type": "execute_result"
    }
   ],
   "source": [
    "from datautils import compare_columns\n",
    "\n",
    "price_gt_rrp = compare_columns(df, 'price', 'rrp', lambda x, y: x > y)\n",
    "len(price_gt_rrp)"
   ]
  },
  {
   "cell_type": "code",
   "execution_count": 15,
   "metadata": {
    "collapsed": false
   },
   "outputs": [
    {
     "data": {
      "text/plain": [
       "sizeCode\n",
       "100      1059\n",
       "24        317\n",
       "25       5104\n",
       "26       9836\n",
       "27      17139\n",
       "28      22634\n",
       "29      30560\n",
       "30      29115\n",
       "31      26133\n",
       "32      36554\n",
       "33      20890\n",
       "34     147173\n",
       "36     270462\n",
       "38     395163\n",
       "40     393547\n",
       "42     393244\n",
       "44     359473\n",
       "75        491\n",
       "80       1157\n",
       "85       1680\n",
       "90       1613\n",
       "95       1597\n",
       "A       42014\n",
       "I      116374\n",
       "L         445\n",
       "M         751\n",
       "S         444\n",
       "XL        158\n",
       "XS         38\n",
       "dtype: int64"
      ]
     },
     "execution_count": 15,
     "metadata": {},
     "output_type": "execute_result"
    }
   ],
   "source": [
    "df.groupby('sizeCode').size()"
   ]
  },
  {
   "cell_type": "code",
   "execution_count": 16,
   "metadata": {
    "collapsed": false
   },
   "outputs": [
    {
     "data": {
      "text/plain": [
       "sizeCode\n",
       "25      5104\n",
       "26      9836\n",
       "27     17139\n",
       "28     22634\n",
       "29     30560\n",
       "30     29115\n",
       "31     26133\n",
       "32     36554\n",
       "33     20890\n",
       "34    147173\n",
       "36    270462\n",
       "38    395163\n",
       "40    393547\n",
       "42    393244\n",
       "44    359473\n",
       "A      42014\n",
       "I     116374\n",
       "dtype: int64"
      ]
     },
     "execution_count": 16,
     "metadata": {},
     "output_type": "execute_result"
    }
   ],
   "source": [
    "from datautils import cleanup_sizecode\n",
    "\n",
    "cleaned_sizecode_df = cleanup_sizecode(df)\n",
    "cleaned_sizecode_df.groupby('sizeCode').size()"
   ]
  },
  {
   "cell_type": "code",
   "execution_count": 17,
   "metadata": {
    "collapsed": false
   },
   "outputs": [
    {
     "data": {
      "text/plain": [
       "returnQuantity\n",
       "0    1117156\n",
       "1    1204005\n",
       "2       3749\n",
       "3        192\n",
       "4         35\n",
       "5         28\n",
       "dtype: int64"
      ]
     },
     "execution_count": 17,
     "metadata": {},
     "output_type": "execute_result"
    }
   ],
   "source": [
    "df.groupby('returnQuantity').size()\n",
    "# We can use classification models :)"
   ]
  },
  {
   "cell_type": "code",
   "execution_count": 18,
   "metadata": {
    "collapsed": false
   },
   "outputs": [
    {
     "data": {
      "text/plain": [
       "articleID\n",
       "i1000003       1\n",
       "i1000005       1\n",
       "i1000006       1\n",
       "i1000007       2\n",
       "i1000008       6\n",
       "i1000009       6\n",
       "i1000010       7\n",
       "i1000011       1\n",
       "i1000012       6\n",
       "i1000013      19\n",
       "i1000014      12\n",
       "i1000015      28\n",
       "i1000016      23\n",
       "i1000017       3\n",
       "i1000018      32\n",
       "i1000019       4\n",
       "i1000020       4\n",
       "i1000021       4\n",
       "i1000023       6\n",
       "i1000024      12\n",
       "i1000025      11\n",
       "i1000026      30\n",
       "i1000027       5\n",
       "i1000028     395\n",
       "i1000029     555\n",
       "i1000030     370\n",
       "i1000031     549\n",
       "i1000032     215\n",
       "i1000033     481\n",
       "i1000034      10\n",
       "            ... \n",
       "i1003969     476\n",
       "i1003970    1087\n",
       "i1003971     322\n",
       "i1003972     790\n",
       "i1003973     943\n",
       "i1003974     140\n",
       "i1003975     235\n",
       "i1003976     126\n",
       "i1003977     120\n",
       "i1003978     146\n",
       "i1003979     347\n",
       "i1003980     338\n",
       "i1003981     477\n",
       "i1003982       1\n",
       "i1003984      35\n",
       "i1003985    2847\n",
       "i1003986      31\n",
       "i1003987     536\n",
       "i1003988     689\n",
       "i1003989    2427\n",
       "i1003990     160\n",
       "i1003991     593\n",
       "i1003992     949\n",
       "i1003993    1624\n",
       "i1003994    1333\n",
       "i1003995     648\n",
       "i1003996    2175\n",
       "i1003997     218\n",
       "i1003998     940\n",
       "i1004001     351\n",
       "dtype: int64"
      ]
     },
     "execution_count": 18,
     "metadata": {},
     "output_type": "execute_result"
    }
   ],
   "source": [
    "df.groupby('articleID').size()"
   ]
  },
  {
   "cell_type": "code",
   "execution_count": 19,
   "metadata": {
    "collapsed": false
   },
   "outputs": [
    {
     "data": {
      "text/plain": [
       "articleID\n",
       "i1000015      28\n",
       "i1000016      23\n",
       "i1000018      32\n",
       "i1000026      30\n",
       "i1000028     395\n",
       "i1000029     555\n",
       "i1000030     370\n",
       "i1000031     549\n",
       "i1000032     215\n",
       "i1000033     481\n",
       "i1000038      62\n",
       "i1000039      48\n",
       "i1000040      87\n",
       "i1000041     146\n",
       "i1000042     169\n",
       "i1000043     163\n",
       "i1000044     294\n",
       "i1000046      63\n",
       "i1000048     398\n",
       "i1000053      21\n",
       "i1000055      26\n",
       "i1000058      69\n",
       "i1000059      31\n",
       "i1000060      30\n",
       "i1000061      29\n",
       "i1000063      33\n",
       "i1000067      76\n",
       "i1000068     128\n",
       "i1000070     296\n",
       "i1000071     217\n",
       "            ... \n",
       "i1003968     284\n",
       "i1003969     476\n",
       "i1003970    1087\n",
       "i1003971     322\n",
       "i1003972     790\n",
       "i1003973     943\n",
       "i1003974     140\n",
       "i1003975     235\n",
       "i1003976     126\n",
       "i1003977     120\n",
       "i1003978     146\n",
       "i1003979     347\n",
       "i1003980     338\n",
       "i1003981     477\n",
       "i1003984      35\n",
       "i1003985    2847\n",
       "i1003986      31\n",
       "i1003987     536\n",
       "i1003988     689\n",
       "i1003989    2427\n",
       "i1003990     160\n",
       "i1003991     593\n",
       "i1003992     949\n",
       "i1003993    1624\n",
       "i1003994    1333\n",
       "i1003995     648\n",
       "i1003996    2175\n",
       "i1003997     218\n",
       "i1003998     940\n",
       "i1004001     351\n",
       "dtype: int64"
      ]
     },
     "execution_count": 19,
     "metadata": {},
     "output_type": "execute_result"
    }
   ],
   "source": [
    "from datautils import cleanup_articleid\n",
    "\n",
    "cleaned_articleid_df = cleanup_articleid(df)\n",
    "cleaned_articleid_df.groupby('articleID').size()"
   ]
  },
  {
   "cell_type": "code",
   "execution_count": 20,
   "metadata": {
    "collapsed": false
   },
   "outputs": [
    {
     "data": {
      "text/plain": [
       "returnQuantity\n",
       "0    31635\n",
       "1        8\n",
       "dtype: int64"
      ]
     },
     "execution_count": 20,
     "metadata": {},
     "output_type": "execute_result"
    }
   ],
   "source": [
    "from datautils import load_orders_train\n",
    "\n",
    "df = load_orders_train()\n",
    "df = df[df['quantity'] == 0]\n",
    "df[['quantity', 'returnQuantity']].groupby('returnQuantity').size()"
   ]
  },
  {
   "cell_type": "code",
   "execution_count": 21,
   "metadata": {
    "collapsed": false
   },
   "outputs": [
    {
     "data": {
      "text/plain": [
       "returnQuantity\n",
       "0    6692\n",
       "dtype: int64"
      ]
     },
     "execution_count": 21,
     "metadata": {},
     "output_type": "execute_result"
    }
   ],
   "source": [
    "import pandas as pd\n",
    "from datautils import load_orders_class, load_real_class\n",
    "\n",
    "df1 = load_orders_class()\n",
    "df2 = load_real_class()\n",
    "\n",
    "df = pd.concat([df1, df2], axis=1)\n",
    "df = df[df['quantity'] == 0]\n",
    "df[['quantity', 'returnQuantity']].groupby('returnQuantity').size()"
   ]
  },
  {
   "cell_type": "code",
   "execution_count": 12,
   "metadata": {
    "collapsed": false
   },
   "outputs": [
    {
     "name": "stdout",
     "output_type": "stream",
     "text": [
      "quantity number: 0\n",
      "positive_return_percent: 0.000252884463411\n",
      "quantity number: 1\n",
      "positive_return_percent: 1.11297799669\n",
      "quantity number: 2\n",
      "positive_return_percent: 1.21996430043\n",
      "quantity number: 3\n",
      "positive_return_percent: 0.505617977528\n",
      "quantity number: 4\n",
      "positive_return_percent: 0.394849785408\n",
      "quantity number: 5\n",
      "positive_return_percent: 0.283088235294\n",
      "quantity number: 7\n",
      "positive_return_percent: 0.0\n",
      "quantity number: 9\n",
      "positive_return_percent: 0.0\n",
      "quantity number: 11\n",
      "positive_return_percent: 0.0\n",
      "quantity number: 15\n",
      "positive_return_percent: 0.0\n",
      "quantity number: 24\n",
      "positive_return_percent: 0.0\n"
     ]
    }
   ],
   "source": [
    "from models import HardPredictor\n",
    "predictor = HardPredictor(df)\n",
    "predictor.predict_by_quantity(0.5)"
   ]
  },
  {
   "cell_type": "code",
   "execution_count": null,
   "metadata": {
    "collapsed": true
   },
   "outputs": [],
   "source": [
    ""
   ]
  }
 ],
 "metadata": {
  "kernelspec": {
   "display_name": "Python 2",
   "language": "python",
   "name": "python2"
  },
  "language_info": {
   "codemirror_mode": {
    "name": "ipython",
    "version": 2.0
   },
   "file_extension": ".py",
   "mimetype": "text/x-python",
   "name": "python",
   "nbconvert_exporter": "python",
   "pygments_lexer": "ipython2",
   "version": "2.7.12"
  }
 },
 "nbformat": 4,
 "nbformat_minor": 0
}