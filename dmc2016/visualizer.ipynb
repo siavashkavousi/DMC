{
 "cells": [
  {
   "cell_type": "code",
   "execution_count": 1,
   "metadata": {
    "collapsed": true
   },
   "outputs": [
    {
     "data": {
      "text/html": [
       "<div>\n",
       "<table border=\"1\" class=\"dataframe\">\n",
       "  <thead>\n",
       "    <tr style=\"text-align: right;\">\n",
       "      <th></th>\n",
       "      <th>orderID</th>\n",
       "      <th>orderDate</th>\n",
       "      <th>articleID</th>\n",
       "      <th>colorCode</th>\n",
       "      <th>sizeCode</th>\n",
       "      <th>productGroup</th>\n",
       "      <th>quantity</th>\n",
       "      <th>price</th>\n",
       "      <th>rrp</th>\n",
       "      <th>voucherID</th>\n",
       "      <th>voucherAmount</th>\n",
       "      <th>customerID</th>\n",
       "      <th>deviceID</th>\n",
       "      <th>paymentMethod</th>\n",
       "      <th>returnQuantity</th>\n",
       "    </tr>\n",
       "  </thead>\n",
       "  <tbody>\n",
       "    <tr>\n",
       "      <th>0</th>\n",
       "      <td>a1000001</td>\n",
       "      <td>2014-01-01</td>\n",
       "      <td>i1000382</td>\n",
       "      <td>1972</td>\n",
       "      <td>44</td>\n",
       "      <td>3.0</td>\n",
       "      <td>1</td>\n",
       "      <td>10.00</td>\n",
       "      <td>29.99</td>\n",
       "      <td>0</td>\n",
       "      <td>0.0</td>\n",
       "      <td>c1010575</td>\n",
       "      <td>2</td>\n",
       "      <td>BPRG</td>\n",
       "      <td>0</td>\n",
       "    </tr>\n",
       "    <tr>\n",
       "      <th>1</th>\n",
       "      <td>a1000001</td>\n",
       "      <td>2014-01-01</td>\n",
       "      <td>i1000550</td>\n",
       "      <td>3854</td>\n",
       "      <td>44</td>\n",
       "      <td>3.0</td>\n",
       "      <td>1</td>\n",
       "      <td>20.00</td>\n",
       "      <td>39.99</td>\n",
       "      <td>0</td>\n",
       "      <td>0.0</td>\n",
       "      <td>c1010575</td>\n",
       "      <td>2</td>\n",
       "      <td>BPRG</td>\n",
       "      <td>0</td>\n",
       "    </tr>\n",
       "    <tr>\n",
       "      <th>2</th>\n",
       "      <td>a1000002</td>\n",
       "      <td>2014-01-01</td>\n",
       "      <td>i1001991</td>\n",
       "      <td>2974</td>\n",
       "      <td>38</td>\n",
       "      <td>8.0</td>\n",
       "      <td>1</td>\n",
       "      <td>35.00</td>\n",
       "      <td>49.99</td>\n",
       "      <td>0</td>\n",
       "      <td>0.0</td>\n",
       "      <td>c1045905</td>\n",
       "      <td>4</td>\n",
       "      <td>BPRG</td>\n",
       "      <td>0</td>\n",
       "    </tr>\n",
       "    <tr>\n",
       "      <th>3</th>\n",
       "      <td>a1000002</td>\n",
       "      <td>2014-01-01</td>\n",
       "      <td>i1001999</td>\n",
       "      <td>1992</td>\n",
       "      <td>38</td>\n",
       "      <td>8.0</td>\n",
       "      <td>1</td>\n",
       "      <td>49.99</td>\n",
       "      <td>49.99</td>\n",
       "      <td>0</td>\n",
       "      <td>0.0</td>\n",
       "      <td>c1045905</td>\n",
       "      <td>4</td>\n",
       "      <td>BPRG</td>\n",
       "      <td>1</td>\n",
       "    </tr>\n",
       "    <tr>\n",
       "      <th>4</th>\n",
       "      <td>a1000003</td>\n",
       "      <td>2014-01-01</td>\n",
       "      <td>i1001942</td>\n",
       "      <td>1968</td>\n",
       "      <td>42</td>\n",
       "      <td>8.0</td>\n",
       "      <td>1</td>\n",
       "      <td>10.00</td>\n",
       "      <td>35.99</td>\n",
       "      <td>0</td>\n",
       "      <td>0.0</td>\n",
       "      <td>c1089295</td>\n",
       "      <td>2</td>\n",
       "      <td>PAYPALVC</td>\n",
       "      <td>0</td>\n",
       "    </tr>\n",
       "  </tbody>\n",
       "</table>\n",
       "</div>"
      ],
      "text/plain": [
       "<div>\n",
       "<table border=\"1\" class=\"dataframe\">\n",
       "  <thead>\n",
       "    <tr style=\"text-align: right;\">\n",
       "      <th></th>\n",
       "      <th>orderID</th>\n",
       "      <th>orderDate</th>\n",
       "      <th>articleID</th>\n",
       "      <th>colorCode</th>\n",
       "      <th>sizeCode</th>\n",
       "      <th>productGroup</th>\n",
       "      <th>quantity</th>\n",
       "      <th>price</th>\n",
       "      <th>rrp</th>\n",
       "      <th>voucherID</th>\n",
       "      <th>voucherAmount</th>\n",
       "      <th>customerID</th>\n",
       "      <th>deviceID</th>\n",
       "      <th>paymentMethod</th>\n",
       "      <th>returnQuantity</th>\n",
       "    </tr>\n",
       "  </thead>\n",
       "  <tbody>\n",
       "    <tr>\n",
       "      <th>0</th>\n",
       "      <td>a1000001</td>\n",
       "      <td>2014-01-01</td>\n",
       "      <td>i1000382</td>\n",
       "      <td>1972</td>\n",
       "      <td>44</td>\n",
       "      <td>3.0</td>\n",
       "      <td>1</td>\n",
       "      <td>10.00</td>\n",
       "      <td>29.99</td>\n",
       "      <td>0</td>\n",
       "      <td>0.0</td>\n",
       "      <td>c1010575</td>\n",
       "      <td>2</td>\n",
       "      <td>BPRG</td>\n",
       "      <td>0</td>\n",
       "    </tr>\n",
       "    <tr>\n",
       "      <th>1</th>\n",
       "      <td>a1000001</td>\n",
       "      <td>2014-01-01</td>\n",
       "      <td>i1000550</td>\n",
       "      <td>3854</td>\n",
       "      <td>44</td>\n",
       "      <td>3.0</td>\n",
       "      <td>1</td>\n",
       "      <td>20.00</td>\n",
       "      <td>39.99</td>\n",
       "      <td>0</td>\n",
       "      <td>0.0</td>\n",
       "      <td>c1010575</td>\n",
       "      <td>2</td>\n",
       "      <td>BPRG</td>\n",
       "      <td>0</td>\n",
       "    </tr>\n",
       "    <tr>\n",
       "      <th>2</th>\n",
       "      <td>a1000002</td>\n",
       "      <td>2014-01-01</td>\n",
       "      <td>i1001991</td>\n",
       "      <td>2974</td>\n",
       "      <td>38</td>\n",
       "      <td>8.0</td>\n",
       "      <td>1</td>\n",
       "      <td>35.00</td>\n",
       "      <td>49.99</td>\n",
       "      <td>0</td>\n",
       "      <td>0.0</td>\n",
       "      <td>c1045905</td>\n",
       "      <td>4</td>\n",
       "      <td>BPRG</td>\n",
       "      <td>0</td>\n",
       "    </tr>\n",
       "    <tr>\n",
       "      <th>3</th>\n",
       "      <td>a1000002</td>\n",
       "      <td>2014-01-01</td>\n",
       "      <td>i1001999</td>\n",
       "      <td>1992</td>\n",
       "      <td>38</td>\n",
       "      <td>8.0</td>\n",
       "      <td>1</td>\n",
       "      <td>49.99</td>\n",
       "      <td>49.99</td>\n",
       "      <td>0</td>\n",
       "      <td>0.0</td>\n",
       "      <td>c1045905</td>\n",
       "      <td>4</td>\n",
       "      <td>BPRG</td>\n",
       "      <td>1</td>\n",
       "    </tr>\n",
       "    <tr>\n",
       "      <th>4</th>\n",
       "      <td>a1000003</td>\n",
       "      <td>2014-01-01</td>\n",
       "      <td>i1001942</td>\n",
       "      <td>1968</td>\n",
       "      <td>42</td>\n",
       "      <td>8.0</td>\n",
       "      <td>1</td>\n",
       "      <td>10.00</td>\n",
       "      <td>35.99</td>\n",
       "      <td>0</td>\n",
       "      <td>0.0</td>\n",
       "      <td>c1089295</td>\n",
       "      <td>2</td>\n",
       "      <td>PAYPALVC</td>\n",
       "      <td>0</td>\n",
       "    </tr>\n",
       "  </tbody>\n",
       "</table>\n",
       "</div>"
      ]
     },
     "execution_count": 1,
     "metadata": {},
     "output_type": "execute_result"
    }
   ],
   "source": [
    "import numpy as np\n",
    "import pandas as pd\n",
    "from dmc2016.datautils import load_orders_train, PATH\n",
    "\n",
    "df = load_orders_train()\n",
    "df.head()"
   ]
  },
  {
   "cell_type": "code",
   "execution_count": 2,
   "metadata": {},
   "outputs": [],
   "source": [
    "from dmc2016.datautils import process_date\n",
    "process_date(df)\n",
    "_ = pd.read_csv(PATH + 'date.csv')"
   ]
  },
  {
   "cell_type": "code",
   "execution_count": 3,
   "metadata": {},
   "outputs": [
    {
     "data": {
      "text/plain": [
       "quantity\n0       31643\n1     2275335\n2       16168\n3        1340\n4         325\n5         349\n7           1\n9           1\n11          1\n15          1\n24          1\ndtype: int64"
      ]
     },
     "execution_count": 3,
     "metadata": {},
     "output_type": "execute_result"
    }
   ],
   "source": [
    "# what should we do with items that have zero quantity?!! remove I guess :)\n",
    "df.groupby('quantity').size()"
   ]
  },
  {
   "cell_type": "code",
   "execution_count": 4,
   "metadata": {},
   "outputs": [
    {
     "data": {
      "text/plain": [
       "quantity\n1    2258952\n2      15813\n3        999\n4         19\n5         51\ndtype: int64"
      ]
     },
     "execution_count": 4,
     "metadata": {},
     "output_type": "execute_result"
    }
   ],
   "source": [
    "from dmc2016.datautils import cleanup_data\n",
    "cleaned_df = cleanup_data(df)\n",
    "cleaned_df.groupby('quantity').size()"
   ]
  },
  {
   "cell_type": "code",
   "execution_count": 5,
   "metadata": {},
   "outputs": [
    {
     "data": {
      "text/plain": [
       "price\n4.00         397\n5.00        9539\n7.00        4914\n8.00       13387\n9.00       23467\n9.99       21078\n10.00      31072\n12.00      52529\n12.95      33140\n12.99      16576\n14.00       4430\n15.00      92455\n15.99      29196\n16.00        157\n17.99      48302\n18.00      56813\n19.98        748\n19.99      70598\n20.00     153222\n22.99      64049\n23.99        104\n24.00        323\n24.99        342\n25.00      60446\n25.20        127\n25.90       1131\n25.98        170\n25.99      85816\n26.66        199\n27.99      23966\n           ...  \n71.98        398\n75.00        207\n79.98       1246\n79.99      15587\n80.00        632\n85.00       1155\n89.99      13040\n90.00       1258\n99.98        694\n99.99      16397\n100.00      1239\n109.00       298\n110.00      1437\n119.98       641\n119.99      3180\n120.00      1036\n129.99      1904\n130.00       235\n139.98       661\n139.99      3197\n149.99      1354\n150.00       444\n159.99       275\n160.00      1641\n169.99      1305\n179.99       355\n199.99       338\n219.99       739\n229.99      2578\n239.99       304\ndtype: int64"
      ]
     },
     "execution_count": 5,
     "metadata": {},
     "output_type": "execute_result"
    }
   ],
   "source": [
    "cleaned_df.groupby('price').size()"
   ]
  },
  {
   "cell_type": "code",
   "execution_count": 6,
   "metadata": {},
   "outputs": [
    {
     "data": {
      "text/plain": [
       "310"
      ]
     },
     "execution_count": 6,
     "metadata": {},
     "output_type": "execute_result"
    }
   ],
   "source": [
    "from dmc2016.datautils import filter_nasty_customers\n",
    "\n",
    "nasty_customers = filter_nasty_customers(df, lambda x: x > 100)\n",
    "len(nasty_customers)"
   ]
  },
  {
   "cell_type": "code",
   "execution_count": 7,
   "metadata": {},
   "outputs": [
    {
     "data": {
      "text/plain": [
       "57"
      ]
     },
     "execution_count": 7,
     "metadata": {},
     "output_type": "execute_result"
    }
   ],
   "source": [
    "from dmc2016.datautils import filter_most_unwanted_colors\n",
    "\n",
    "most_unwanted_colors = filter_most_unwanted_colors(df, lambda x: x > 5000)\n",
    "len(most_unwanted_colors)"
   ]
  },
  {
   "cell_type": "code",
   "execution_count": 5,
   "metadata": {},
   "outputs": [
    {
     "data": {
      "text/plain": [
       "22662"
      ]
     },
     "execution_count": 5,
     "metadata": {},
     "output_type": "execute_result"
    }
   ],
   "source": [
    "from dmc2016.datautils import compare_columns\n",
    "\n",
    "price_gt_rrp = compare_columns(df, 'price', 'rrp', lambda x, y: x > y)\n",
    "len(price_gt_rrp)"
   ]
  },
  {
   "cell_type": "code",
   "execution_count": 53,
   "metadata": {},
   "outputs": [
    {
     "data": {
      "text/plain": [
       "sizeCode\n100      1059\n24        317\n25       5104\n26       9836\n27      17139\n28      22634\n29      30560\n30      29115\n31      26133\n32      36554\n33      20890\n34     147173\n36     270462\n38     395163\n40     393547\n42     393244\n44     359473\n75        491\n80       1157\n85       1680\n90       1613\n95       1597\nA       42014\nI      116374\nL         445\nM         751\nS         444\nXL        158\nXS         38\ndtype: int64"
      ]
     },
     "execution_count": 53,
     "metadata": {},
     "output_type": "execute_result"
    }
   ],
   "source": [
    "df.groupby('sizeCode').size()"
   ]
  },
  {
   "cell_type": "code",
   "execution_count": 4,
   "metadata": {},
   "outputs": [
    {
     "data": {
      "text/plain": [
       "sizeCode\n100      1059\n25       5104\n26       9836\n27      17139\n28      22634\n29      30560\n30      29115\n31      26133\n32      36554\n33      20890\n34     147173\n36     270462\n38     395163\n40     393547\n42     393244\n44     359473\n80       1157\n85       1680\n90       1613\n95       1597\nA       42014\nI      116374\ndtype: int64"
      ]
     },
     "execution_count": 4,
     "metadata": {},
     "output_type": "execute_result"
    }
   ],
   "source": [
    "from dmc2016.datautils import cleanup_sizecode\n",
    "\n",
    "cleaned_sizecode_df = cleanup_sizecode(df)\n",
    "cleaned_sizecode_df.groupby('sizeCode').size()"
   ]
  },
  {
   "cell_type": "code",
   "execution_count": 2,
   "metadata": {},
   "outputs": [
    {
     "data": {
      "text/plain": [
       "returnQuantity\n0    1117156\n1    1204005\n2       3749\n3        192\n4         35\n5         28\ndtype: int64"
      ]
     },
     "execution_count": 2,
     "metadata": {},
     "output_type": "execute_result"
    }
   ],
   "source": [
    "df.groupby('returnQuantity').size()\n",
    "# We can use classification models :)"
   ]
  },
  {
   "cell_type": "code",
   "execution_count": 2,
   "metadata": {},
   "outputs": [
    {
     "data": {
      "text/plain": [
       "articleID\ni1000003       1\ni1000005       1\ni1000006       1\ni1000007       2\ni1000008       6\ni1000009       6\ni1000010       7\ni1000011       1\ni1000012       6\ni1000013      19\ni1000014      12\ni1000015      28\ni1000016      23\ni1000017       3\ni1000018      32\ni1000019       4\ni1000020       4\ni1000021       4\ni1000023       6\ni1000024      12\ni1000025      11\ni1000026      30\ni1000027       5\ni1000028     395\ni1000029     555\ni1000030     370\ni1000031     549\ni1000032     215\ni1000033     481\ni1000034      10\n            ... \ni1003969     476\ni1003970    1087\ni1003971     322\ni1003972     790\ni1003973     943\ni1003974     140\ni1003975     235\ni1003976     126\ni1003977     120\ni1003978     146\ni1003979     347\ni1003980     338\ni1003981     477\ni1003982       1\ni1003984      35\ni1003985    2847\ni1003986      31\ni1003987     536\ni1003988     689\ni1003989    2427\ni1003990     160\ni1003991     593\ni1003992     949\ni1003993    1624\ni1003994    1333\ni1003995     648\ni1003996    2175\ni1003997     218\ni1003998     940\ni1004001     351\ndtype: int64"
      ]
     },
     "execution_count": 2,
     "metadata": {},
     "output_type": "execute_result"
    }
   ],
   "source": [
    "df.groupby('articleID').size()"
   ]
  },
  {
   "cell_type": "code",
   "execution_count": 4,
   "metadata": {},
   "outputs": [
    {
     "data": {
      "text/plain": [
       "articleID\ni1000267     2538\ni1000269     2415\ni1000296     2291\ni1000298     2337\ni1000312     3365\ni1000313     2971\ni1000314    14515\ni1000315     6023\ni1000318     2082\ni1000319     2808\ni1000320     2589\ni1000321     2820\ni1000322     4755\ni1000323     2076\ni1000325     3135\ni1000328     2073\ni1000342     2254\ni1000350     4288\ni1000358     3133\ni1000359     3884\ni1000364     5909\ni1000365     5701\ni1000372     6307\ni1000373     5275\ni1000376     2429\ni1000377     4623\ni1000385     2172\ni1000397    13508\ni1000398     6044\ni1000403     2127\n            ...  \ni1002094     3845\ni1002287     2323\ni1002334     3166\ni1002381     2410\ni1002506     5075\ni1002683     2822\ni1003127     2257\ni1003278    26208\ni1003279     8424\ni1003435     2773\ni1003471     2005\ni1003505     2611\ni1003517     3833\ni1003519     2704\ni1003714     2228\ni1003741     2093\ni1003817     2268\ni1003848     2308\ni1003868     3413\ni1003869     2959\ni1003877     2175\ni1003883     2992\ni1003886     2767\ni1003890     2913\ni1003894     2139\ni1003895     2215\ni1003896     4496\ni1003985     2847\ni1003989     2427\ni1003996     2175\ndtype: int64"
      ]
     },
     "execution_count": 4,
     "metadata": {},
     "output_type": "execute_result"
    }
   ],
   "source": [
    "from dmc2016.datautils import cleanup_articleid\n",
    "\n",
    "cleaned_articleid_df = cleanup_articleid(df)\n",
    "cleaned_articleid_df.groupby('articleID').size()"
   ]
  }
 ],
 "metadata": {
  "kernelspec": {
   "display_name": "Python 2",
   "language": "python",
   "name": "python2"
  },
  "language_info": {
   "codemirror_mode": {
    "name": "ipython",
    "version": 2.0
   },
   "file_extension": ".py",
   "mimetype": "text/x-python",
   "name": "python",
   "nbconvert_exporter": "python",
   "pygments_lexer": "ipython2",
   "version": "2.7.6"
  }
 },
 "nbformat": 4,
 "nbformat_minor": 0
}